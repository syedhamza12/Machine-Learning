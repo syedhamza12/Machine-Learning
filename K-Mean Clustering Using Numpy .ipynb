{
 "cells": [
  {
   "cell_type": "markdown",
   "metadata": {},
   "source": [
    "# K-Means Clustering Using Basic Python & Numpy"
   ]
  },
  {
   "cell_type": "code",
   "execution_count": 40,
   "metadata": {},
   "outputs": [],
   "source": [
    "import numpy as np\n",
    "\n",
    "# This function is used for upload txt file\n",
    "def load_dataset(name):\n",
    "    return np.loadtxt(name)\n",
    "\n",
    "# This function is used for find the Euclidian Distance\n",
    "def euclidian(a, b):\n",
    "    return np.linalg.norm(a-b)\n",
    "\n",
    "#This function is used for Kmean Clustering \n",
    "def kmeans(k, epsilon=0, distance='euclidian'):\n",
    "    history_centroids = []\n",
    "    if distance == 'euclidian':\n",
    "        dist_method = euclidian\n",
    "    dataset = load_dataset('C:\\\\Users\\\\hamza jamil\\\\Downloads\\\\ccc\\\\__MACOSX\\\\0.txt')\n",
    "    # dataset = dataset[:, 0:dataset.shape[1] - 1]\n",
    "    num_instances, num_features = dataset.shape\n",
    "    prototypes = dataset[np.random.randint(0, num_instances - 1, size=k)]\n",
    "    history_centroids.append(prototypes)\n",
    "    prototypes_old = np.zeros(prototypes.shape)\n",
    "    belongs_to = np.zeros((num_instances, 1))\n",
    "    norm = dist_method(prototypes, prototypes_old)\n",
    "    iteration = 0\n",
    "    while norm > epsilon:\n",
    "        iteration += 1\n",
    "        norm = dist_method(prototypes, prototypes_old)\n",
    "        prototypes_old = prototypes\n",
    "        for index_instance, instance in enumerate(dataset):\n",
    "            dist_vec = np.zeros((k, 1))\n",
    "            for index_prototype, prototype in enumerate(prototypes):\n",
    "                dist_vec[index_prototype] = dist_method(prototype,\n",
    "                                                        instance)\n",
    "\n",
    "            belongs_to[index_instance, 0] = np.argmin(dist_vec)\n",
    "\n",
    "        tmp_prototypes = np.zeros((k, num_features))\n",
    "\n",
    "        for index in range(len(prototypes)):\n",
    "            instances_close = [i for i in range(len(belongs_to)) if belongs_to[i] == index]\n",
    "            prototype = np.mean(dataset[instances_close], axis=0)\n",
    "            # prototype = dataset[np.random.randint(0, num_instances, size=1)[0]]\n",
    "            tmp_prototypes[index, :] = prototype\n",
    "\n",
    "        prototypes = tmp_prototypes\n",
    "\n",
    "        history_centroids.append(tmp_prototypes)\n",
    "\n",
    "    \n",
    "\n",
    "    return prototypes, history_centroids, belongs_to\n",
    "\n",
    "\n",
    "\n"
   ]
  },
  {
   "cell_type": "markdown",
   "metadata": {},
   "source": [
    "#   load_dataset function for read txt file"
   ]
  },
  {
   "cell_type": "code",
   "execution_count": 48,
   "metadata": {
    "scrolled": true
   },
   "outputs": [
    {
     "name": "stdout",
     "output_type": "stream",
     "text": [
      "[[  4.5799537    2.02328985   0.82315443 ...  -5.2333601    3.69233373\n",
      "    1.94677647]\n",
      " [  4.1820568    2.32421058   0.92980167 ...  -5.56948353   3.36895663\n",
      "    1.66670782]\n",
      " [  4.1477836    2.17320989   1.06224779 ...  -5.5818858    3.60442882\n",
      "    1.93620213]\n",
      " ...\n",
      " [ -8.33967264 -13.2846668   -1.34615581 ...  -9.5650505    7.36895766\n",
      "   -4.60840407]\n",
      " [ -8.59027707   7.20808236  -3.96995165 ...  -0.33034336   6.41448931\n",
      "   -4.23826982]\n",
      " [ -2.89575506  13.53716692   4.87929015 ...  -3.97744592   9.37005611\n",
      "    1.70085442]]\n"
     ]
    }
   ],
   "source": [
    "print(load_dataset('C:\\\\Users\\\\hamza jamil\\\\Downloads\\\\ccc\\\\__MACOSX\\\\0.txt')) # here we call over load_dataset\n",
    "                                                                      #functoin to read our txt file"
   ]
  },
  {
   "cell_type": "markdown",
   "metadata": {},
   "source": [
    "#    k-means function to find the cluster"
   ]
  },
  {
   "cell_type": "code",
   "execution_count": 43,
   "metadata": {},
   "outputs": [
    {
     "name": "stdout",
     "output_type": "stream",
     "text": [
      "(array([[-8.96855599,  8.85681671,  7.23039717, ...,  3.90886588,\n",
      "        -6.19124522, -0.04005864],\n",
      "       [-6.33463617, -9.09072332, -1.94509773, ..., -8.40639861,\n",
      "         4.38997794, -2.64637259],\n",
      "       [-4.6891471 , -9.45191223,  1.56609696, ...,  2.95925003,\n",
      "        10.84315482,  1.35099566],\n",
      "       [ 4.27838844,  2.07683016,  0.92553469, ..., -5.43982768,\n",
      "         3.56527557,  1.80501458]]), [array([[-10.37517709,   7.47409974,   5.49697099, ...,   4.56381399,\n",
      "        -10.35139235,  -1.15145834],\n",
      "       [  4.32930046,   2.15741606,   0.98483694, ...,  -5.45394686,\n",
      "          3.4190858 ,   1.78909215],\n",
      "       [ -1.90219677,  -5.91062475,  -0.82718072, ...,   3.65155077,\n",
      "          9.03581899,   2.03085853],\n",
      "       [  4.41673406,   2.18701562,   1.15878746, ...,  -5.378129  ,\n",
      "          3.48716666,   1.88540813]]), array([[-8.96855599,  8.85681671,  7.23039717, ...,  3.90886588,\n",
      "        -6.19124522, -0.04005864],\n",
      "       [-2.20939432, -4.74356612, -0.8201257 , ..., -7.25260077,\n",
      "         4.07640861, -0.91729495],\n",
      "       [-4.6891471 , -9.45191223,  1.56609696, ...,  2.95925003,\n",
      "        10.84315482,  1.35099566],\n",
      "       [ 4.30680032,  2.09168836,  0.91158252, ..., -5.43354533,\n",
      "         3.54657301,  1.81966754]]), array([[-8.96855599,  8.85681671,  7.23039717, ...,  3.90886588,\n",
      "        -6.19124522, -0.04005864],\n",
      "       [-6.33463617, -9.09072332, -1.94509773, ..., -8.40639861,\n",
      "         4.38997794, -2.64637259],\n",
      "       [-4.6891471 , -9.45191223,  1.56609696, ...,  2.95925003,\n",
      "        10.84315482,  1.35099566],\n",
      "       [ 4.27838844,  2.07683016,  0.92553469, ..., -5.43982768,\n",
      "         3.56527557,  1.80501458]]), array([[-8.96855599,  8.85681671,  7.23039717, ...,  3.90886588,\n",
      "        -6.19124522, -0.04005864],\n",
      "       [-6.33463617, -9.09072332, -1.94509773, ..., -8.40639861,\n",
      "         4.38997794, -2.64637259],\n",
      "       [-4.6891471 , -9.45191223,  1.56609696, ...,  2.95925003,\n",
      "        10.84315482,  1.35099566],\n",
      "       [ 4.27838844,  2.07683016,  0.92553469, ..., -5.43982768,\n",
      "         3.56527557,  1.80501458]]), array([[-8.96855599,  8.85681671,  7.23039717, ...,  3.90886588,\n",
      "        -6.19124522, -0.04005864],\n",
      "       [-6.33463617, -9.09072332, -1.94509773, ..., -8.40639861,\n",
      "         4.38997794, -2.64637259],\n",
      "       [-4.6891471 , -9.45191223,  1.56609696, ...,  2.95925003,\n",
      "        10.84315482,  1.35099566],\n",
      "       [ 4.27838844,  2.07683016,  0.92553469, ..., -5.43982768,\n",
      "         3.56527557,  1.80501458]])], array([[3.],\n",
      "       [3.],\n",
      "       [3.],\n",
      "       [3.],\n",
      "       [3.],\n",
      "       [3.],\n",
      "       [3.],\n",
      "       [3.],\n",
      "       [3.],\n",
      "       [3.],\n",
      "       [3.],\n",
      "       [3.],\n",
      "       [3.],\n",
      "       [3.],\n",
      "       [3.],\n",
      "       [3.],\n",
      "       [3.],\n",
      "       [3.],\n",
      "       [3.],\n",
      "       [3.],\n",
      "       [3.],\n",
      "       [3.],\n",
      "       [3.],\n",
      "       [3.],\n",
      "       [3.],\n",
      "       [3.],\n",
      "       [3.],\n",
      "       [3.],\n",
      "       [3.],\n",
      "       [3.],\n",
      "       [3.],\n",
      "       [3.],\n",
      "       [3.],\n",
      "       [3.],\n",
      "       [3.],\n",
      "       [3.],\n",
      "       [3.],\n",
      "       [3.],\n",
      "       [3.],\n",
      "       [3.],\n",
      "       [3.],\n",
      "       [3.],\n",
      "       [3.],\n",
      "       [3.],\n",
      "       [3.],\n",
      "       [3.],\n",
      "       [3.],\n",
      "       [3.],\n",
      "       [2.],\n",
      "       [2.],\n",
      "       [2.],\n",
      "       [2.],\n",
      "       [2.],\n",
      "       [2.],\n",
      "       [2.],\n",
      "       [2.],\n",
      "       [0.],\n",
      "       [0.],\n",
      "       [0.],\n",
      "       [0.],\n",
      "       [0.],\n",
      "       [0.],\n",
      "       [0.],\n",
      "       [0.],\n",
      "       [0.],\n",
      "       [0.],\n",
      "       [0.],\n",
      "       [0.],\n",
      "       [0.],\n",
      "       [0.],\n",
      "       [0.],\n",
      "       [0.],\n",
      "       [0.],\n",
      "       [0.],\n",
      "       [0.],\n",
      "       [0.],\n",
      "       [0.],\n",
      "       [0.],\n",
      "       [0.],\n",
      "       [0.],\n",
      "       [0.],\n",
      "       [0.],\n",
      "       [0.],\n",
      "       [0.],\n",
      "       [0.],\n",
      "       [0.],\n",
      "       [0.],\n",
      "       [0.],\n",
      "       [0.],\n",
      "       [0.],\n",
      "       [0.],\n",
      "       [0.],\n",
      "       [0.],\n",
      "       [0.],\n",
      "       [0.],\n",
      "       [0.],\n",
      "       [0.],\n",
      "       [0.],\n",
      "       [1.],\n",
      "       [1.],\n",
      "       [1.],\n",
      "       [1.],\n",
      "       [1.],\n",
      "       [1.],\n",
      "       [1.],\n",
      "       [1.],\n",
      "       [1.],\n",
      "       [1.],\n",
      "       [1.],\n",
      "       [1.],\n",
      "       [1.],\n",
      "       [1.],\n",
      "       [1.],\n",
      "       [1.],\n",
      "       [1.],\n",
      "       [1.],\n",
      "       [1.],\n",
      "       [1.],\n",
      "       [1.],\n",
      "       [1.],\n",
      "       [1.],\n",
      "       [1.],\n",
      "       [1.],\n",
      "       [1.],\n",
      "       [1.],\n",
      "       [1.],\n",
      "       [1.],\n",
      "       [1.],\n",
      "       [1.],\n",
      "       [1.],\n",
      "       [1.],\n",
      "       [1.],\n",
      "       [1.],\n",
      "       [1.]]))\n"
     ]
    }
   ],
   "source": [
    "print(kmeans(4)) # here we call over k-mean functoin and we create 4 cluster k=4"
   ]
  },
  {
   "cell_type": "markdown",
   "metadata": {},
   "source": [
    "# euclidian function to find the distance"
   ]
  },
  {
   "cell_type": "code",
   "execution_count": 45,
   "metadata": {},
   "outputs": [
    {
     "name": "stdout",
     "output_type": "stream",
     "text": [
      "7.3558573\n"
     ]
    }
   ],
   "source": [
    "print(euclidian(-2.3435123,5.012345)) # here we call over function euclidian and distance betweeen two points"
   ]
  },
  {
   "cell_type": "markdown",
   "metadata": {},
   "source": [
    "# silhoutte Method"
   ]
  },
  {
   "cell_type": "code",
   "execution_count": 4,
   "metadata": {},
   "outputs": [],
   "source": [
    "\n",
    "def silhoutte( clusters, parsedData=np.genfromtxt(\"C:\\\\Users\\\\hamza jamil\\\\Downloads\\\\ccc\\\\__MACOSX\\\\0.txt\")):  # calculateSC function with parameters\n",
    "        sc = 0\n",
    "        s = 0\n",
    "        y = []\n",
    "        for i in range(len(clusters)): \n",
    "            for j in range(len(clusters[i])):\n",
    "                x_val = parsedData.ix[clusters[i][j]][2]\n",
    "                y_val = parsedData.ix[clusters[i][j]][3]\n",
    "                d = 0\n",
    "                for l in range(len(clusters[i])):\n",
    "                    dist1 = ((parsedData.ix[clusters[i][j]][2] - parsedData.ix[clusters[i][l]][2]) ** 2)\n",
    "                    dist2 = ((parsedData.ix[clusters[i][j]][3] - parsedData.ix[clusters[i][l]][3]) ** 2)\n",
    "                    eud = (dist1 + dist2) ** .5\n",
    "                    d += eud\n",
    "                a = d / (len(clusters[i]) - 1)\n",
    "                b_vals = []\n",
    "                for m in range(len(clusters)):\n",
    "                    if m == i:\n",
    "                        continue\n",
    "                    c = 0\n",
    "                    for j in range(len(clusters[m])):\n",
    "                        dist3 = ((x_val - parsedData.ix[clusters[m][j]][2]) ** 2)\n",
    "                        dist4 = ((y_val - parsedData.ix[clusters[m][j]][3]) ** 2)\n",
    "                        eu = (dist3 + dist4) ** .5\n",
    "                        c += eu\n",
    "                    avg = float(c / len(clusters[m]))\n",
    "                    b_vals.append(avg)\n",
    "                b = min(b_vals)\n",
    "                s = float((b - a) / max(a, b))  \n",
    "                sc += s \n",
    "        sc = sc / len(parsedData[0])\n",
    "        return sc  \n",
    "    "
   ]
  },
  {
   "cell_type": "code",
   "execution_count": 47,
   "metadata": {},
   "outputs": [
    {
     "data": {
      "text/plain": [
       "<function __main__.silhoutte(clusters, parsedData=array([[  4.5799537 ,   2.02328985,   0.82315443, ...,  -5.2333601 ,\n",
       "          3.69233373,   1.94677647],\n",
       "       [  4.1820568 ,   2.32421058,   0.92980167, ...,  -5.56948353,\n",
       "          3.36895663,   1.66670782],\n",
       "       [  4.1477836 ,   2.17320989,   1.06224779, ...,  -5.5818858 ,\n",
       "          3.60442882,   1.93620213],\n",
       "       ...,\n",
       "       [ -8.33967264, -13.2846668 ,  -1.34615581, ...,  -9.5650505 ,\n",
       "          7.36895766,  -4.60840407],\n",
       "       [ -8.59027707,   7.20808236,  -3.96995165, ...,  -0.33034336,\n",
       "          6.41448931,  -4.23826982],\n",
       "       [ -2.89575506,  13.53716692,   4.87929015, ...,  -3.97744592,\n",
       "          9.37005611,   1.70085442]]))>"
      ]
     },
     "execution_count": 47,
     "metadata": {},
     "output_type": "execute_result"
    }
   ],
   "source": [
    " silhoutte  # here we call over functoin  silhoutte "
   ]
  },
  {
   "cell_type": "code",
   "execution_count": null,
   "metadata": {},
   "outputs": [],
   "source": []
  },
  {
   "cell_type": "code",
   "execution_count": null,
   "metadata": {},
   "outputs": [],
   "source": []
  },
  {
   "cell_type": "code",
   "execution_count": null,
   "metadata": {},
   "outputs": [],
   "source": []
  },
  {
   "cell_type": "code",
   "execution_count": null,
   "metadata": {},
   "outputs": [],
   "source": []
  }
 ],
 "metadata": {
  "kernelspec": {
   "display_name": "Python 3",
   "language": "python",
   "name": "python3"
  },
  "language_info": {
   "codemirror_mode": {
    "name": "ipython",
    "version": 3
   },
   "file_extension": ".py",
   "mimetype": "text/x-python",
   "name": "python",
   "nbconvert_exporter": "python",
   "pygments_lexer": "ipython3",
   "version": "3.7.0"
  }
 },
 "nbformat": 4,
 "nbformat_minor": 2
}
